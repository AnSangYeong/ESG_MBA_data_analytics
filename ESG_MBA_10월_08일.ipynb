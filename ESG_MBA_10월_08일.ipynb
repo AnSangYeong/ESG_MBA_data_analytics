{
  "nbformat": 4,
  "nbformat_minor": 0,
  "metadata": {
    "colab": {
      "provenance": [],
      "collapsed_sections": [
        "cD_-l4cmNaIu",
        "OwikZDFuPVFP"
      ],
      "include_colab_link": true
    },
    "kernelspec": {
      "name": "python3",
      "display_name": "Python 3"
    },
    "language_info": {
      "name": "python"
    }
  },
  "cells": [
    {
      "cell_type": "markdown",
      "metadata": {
        "id": "view-in-github",
        "colab_type": "text"
      },
      "source": [
        "<a href=\"https://colab.research.google.com/github/SyncHJ/ESG_MBA_data_analytics/blob/main/ESG_MBA_10%EC%9B%94_08%EC%9D%BC.ipynb\" target=\"_parent\"><img src=\"https://colab.research.google.com/assets/colab-badge.svg\" alt=\"Open In Colab\"/></a>"
      ]
    },
    {
      "cell_type": "code",
      "source": [
        "pip install konlpy"
      ],
      "metadata": {
        "colab": {
          "base_uri": "https://localhost:8080/"
        },
        "id": "FxSKycEni1OD",
        "outputId": "c5895b61-d7b6-4d27-ea7c-8360160d4224"
      },
      "execution_count": 1,
      "outputs": [
        {
          "output_type": "stream",
          "name": "stdout",
          "text": [
            "Looking in indexes: https://pypi.org/simple, https://us-python.pkg.dev/colab-wheels/public/simple/\n",
            "Collecting konlpy\n",
            "  Downloading konlpy-0.6.0-py2.py3-none-any.whl (19.4 MB)\n",
            "\u001b[K     |████████████████████████████████| 19.4 MB 1.1 MB/s \n",
            "\u001b[?25hRequirement already satisfied: numpy>=1.6 in /usr/local/lib/python3.7/dist-packages (from konlpy) (1.21.6)\n",
            "Requirement already satisfied: lxml>=4.1.0 in /usr/local/lib/python3.7/dist-packages (from konlpy) (4.9.1)\n",
            "Collecting JPype1>=0.7.0\n",
            "  Downloading JPype1-1.4.0-cp37-cp37m-manylinux_2_5_x86_64.manylinux1_x86_64.whl (453 kB)\n",
            "\u001b[K     |████████████████████████████████| 453 kB 69.4 MB/s \n",
            "\u001b[?25hRequirement already satisfied: typing-extensions in /usr/local/lib/python3.7/dist-packages (from JPype1>=0.7.0->konlpy) (4.1.1)\n",
            "Installing collected packages: JPype1, konlpy\n",
            "Successfully installed JPype1-1.4.0 konlpy-0.6.0\n"
          ]
        }
      ]
    },
    {
      "cell_type": "code",
      "source": [
        "pip install xlsxwriter"
      ],
      "metadata": {
        "colab": {
          "base_uri": "https://localhost:8080/"
        },
        "id": "hLORYCzBjHXA",
        "outputId": "f165c1de-0e9c-41ee-bbf0-9cdbce7680cc"
      },
      "execution_count": 2,
      "outputs": [
        {
          "output_type": "stream",
          "name": "stdout",
          "text": [
            "Looking in indexes: https://pypi.org/simple, https://us-python.pkg.dev/colab-wheels/public/simple/\n",
            "Collecting xlsxwriter\n",
            "  Downloading XlsxWriter-3.0.3-py3-none-any.whl (149 kB)\n",
            "\u001b[K     |████████████████████████████████| 149 kB 5.2 MB/s \n",
            "\u001b[?25hInstalling collected packages: xlsxwriter\n",
            "Successfully installed xlsxwriter-3.0.3\n"
          ]
        }
      ]
    },
    {
      "cell_type": "code",
      "source": [
        "import re\n",
        "import os\n",
        "import numpy as np\n",
        "import pandas as pd\n",
        "import matplotlib.pyplot as plt\n",
        "import matplotlib.font_manager as fm\n",
        "import xlsxwriter\n",
        "import urllib.request\n",
        "from konlpy.tag import Okt\n",
        "from matplotlib import font_manager, rc\n",
        "from openpyxl import Workbook\n",
        "from gensim.models.word2vec import Word2Vec\n",
        "# import nltk\n",
        "# from nltk.corpus import stopwords\n",
        "\n",
        "font_path ='./NanumGothic.ttf'\n",
        "fontprop = fm.FontProperties(fname=font_path, size=18)\n",
        "rc('font', family='AppleGothic')\n",
        "\n",
        "okt = Okt()\n",
        "\n",
        "# driver_path = r'/Users/mac_h/Desktop'\n",
        "# os.chdir(driver_path)\n",
        "data = pd.read_excel('/content/ESG_sp.xlsx',engine='openpyxl')\n",
        "# csa=pd.read_csv(\"ESG_sp.csv\", encoding='cp949')"
      ],
      "metadata": {
        "id": "3-stZaOo7RpD"
      },
      "execution_count": 4,
      "outputs": []
    },
    {
      "cell_type": "code",
      "source": [
        "print(len(data)) #데이터 값이 몇 개 있는지 확인"
      ],
      "metadata": {
        "colab": {
          "base_uri": "https://localhost:8080/"
        },
        "id": "-fmCqDWaJl7v",
        "outputId": "d7f12dd0-00b1-44e1-c57b-1bc59934650c"
      },
      "execution_count": 5,
      "outputs": [
        {
          "output_type": "stream",
          "name": "stdout",
          "text": [
            "10438\n"
          ]
        }
      ]
    },
    {
      "cell_type": "code",
      "source": [
        "import re\n",
        " \n",
        "def preprocessing(text):\n",
        "    # 특수문자나 이모티콘 등 아래의 특수기호들을 제거합니다(%등은 남김).\n",
        "    text = re.sub('[?.,;:|\\)*~`’!^\\-_+<>@\\#$%&-=#}※]', '', text)   \n",
        "    #  re.sub는 위에서 특수문자를 제거한 text에서 한글, 영문만 남기고 모두 제거하도록 합니다.\n",
        "    text = re.sub('[^가-힣ㄱ-ㅎㅏ-ㅣa-zA-Z0-9]', ' ', text)\n",
        "    return text\n",
        "\n",
        "def clean_text(text):\n",
        "    text = str(text)\n",
        "    text = re.sub(r'\\[.*?\\]', '', text) # 대괄호 안에 텍스트 제거 \n",
        "    text = re.sub(r'\\(.*?\\)', '', text) # 소괄호 안에 텍스트 제거\n",
        " \n",
        "    return text"
      ],
      "metadata": {
        "id": "6EGx6m-8LryK"
      },
      "execution_count": 7,
      "outputs": []
    },
    {
      "cell_type": "code",
      "source": [
        "# 불용어 제거 작업\n",
        "import json #json 파일을 불러오기 한 뒤에 아래 Stopworkd.extend에서 추가를 해서 지울 것들 만들면 됨\n",
        "with open('korean_stopword.json',encoding='utf8') as f:  # 분석하고자 파일과 동일한 폴더(위치)에 있어야 한다\n",
        "    stopwords = json.load(f)"
      ],
      "metadata": {
        "id": "u37adfXsH_EY"
      },
      "execution_count": 10,
      "outputs": []
    },
    {
      "cell_type": "code",
      "source": [
        "cs = pd.DataFrame()\n",
        "cs['keywords'] = data['keywords'] \n",
        "cs['text_clean']=pd.DataFrame(cs['keywords'].apply(lambda x: clean_text(x)))\n",
        "\n",
        "# stopwords를 하기 위해서는 tokenize를 먼저 해야 함 (계속해서 불필요한 단어들을 보면서 제거)\n",
        "cs['text_ko'] = [okt.morphs(doc) for doc in cs.text_clean]\n",
        "cs['text_tokenized'] = cs.text_ko.apply(lambda x: [ a for a in x if a not in stopwords])"
      ],
      "metadata": {
        "id": "2HQ6WP5DKJXt"
      },
      "execution_count": 11,
      "outputs": []
    },
    {
      "cell_type": "code",
      "source": [
        "print(cs)"
      ],
      "metadata": {
        "id": "x-ra9Ml5LzTS",
        "colab": {
          "base_uri": "https://localhost:8080/"
        },
        "outputId": "3322079f-0af4-4762-ad02-2fa4d0ebb3e4"
      },
      "execution_count": 12,
      "outputs": [
        {
          "output_type": "stream",
          "name": "stdout",
          "text": [
            "                                                keywords  \\\n",
            "0      SK케미칼,발간,TCFD,보고서,기후변화,공유,대응,전략,SK케미칼,생산,제품,생애...   \n",
            "1      제주은행,사회,공헌비율,최고,은행,제주은행,시중,은행,이익,대비,사회,공헌,비율,국...   \n",
            "2      개최,KICOX,국민,참여,혁신,아이디어,공모전,한국산업단지공단,국민,목소리,아이디...   \n",
            "3      SK케미칼,기후,변화,대응,전략,TCFD,보고서,발간,SK,케미칼,TCFD,보고서,...   \n",
            "4      삼성,LG전자,KES,참가,혁신제품,경쟁,삼성전자,스마트싱스,활용,체험존,마련,삼성...   \n",
            "...                                                  ...   \n",
            "10433  예산,심덕섭,고창,군수,취임,고창군,확보,취임식,민선,심덕섭,전북,고창,군수,고창,...   \n",
            "10434  인천도시공사,수상,ESG,공공,기관,종합,대상,지방공기업,발행,ESG,채권,ESG,...   \n",
            "10435  예방,대청호,녹조,처리,금강,유역,홍수,가뭄,예방,재해,주목적,준공,대청호,대전,충...   \n",
            "10436  순천향대,지주,자회사,IR,대회,Value-UP,R&BD,세미나,개최,아산,순천향대...   \n",
            "10437  국립,생태원,한국가스공사,업무협약,멸종,위기,보전,업무,협약,서천,국립생태원,원장,...   \n",
            "\n",
            "                                              text_clean  \\\n",
            "0      SK케미칼 발간 TCFD 보고서 기후변화 공유 대응 전략 SK케미칼 생산 제품 생애...   \n",
            "1      제주은행 사회 공헌비율 최고 은행 제주은행 시중 은행 이익 대비 사회 공헌 비율 국...   \n",
            "2      개최 KICOX 국민 참여 혁신 아이디어 공모전 한국산업단지공단 국민 목소리 아이디...   \n",
            "3      SK케미칼 기후 변화 대응 전략 TCFD 보고서 발간 SK 케미칼 TCFD 보고서 ...   \n",
            "4      삼성 LG전자 KES 참가 혁신제품 경쟁 삼성전자 스마트싱스 활용 체험존 마련 삼성...   \n",
            "...                                                  ...   \n",
            "10433  예산 심덕섭 고창 군수 취임 고창군 확보 취임식 민선 심덕섭 전북 고창 군수 고창 ...   \n",
            "10434  인천도시공사 수상 ESG 공공 기관 종합 대상 지방공기업 발행 ESG 채권 ESG ...   \n",
            "10435  예방 대청호 녹조 처리 금강 유역 홍수 가뭄 예방 재해 주목적 준공 대청호 대전 충...   \n",
            "10436  순천향대 지주 자회사 IR 대회 Value UP R BD 세미나 개최 아산 순천향대...   \n",
            "10437  국립 생태원 한국가스공사 업무협약 멸종 위기 보전 업무 협약 서천 국립생태원 원장 ...   \n",
            "\n",
            "                                                 text_ko  \\\n",
            "0      [SK, 케미칼, 발간, TCFD, 보고서, 기후변화, 공유, 대응, 전략, SK,...   \n",
            "1      [제주, 은행, 사회, 공헌, 비율, 최고, 은행, 제주, 은행, 시중, 은행, 이...   \n",
            "2      [개최, KICOX, 국민, 참여, 혁신, 아이디어, 공모전, 한국, 산업, 단지,...   \n",
            "3      [SK, 케미칼, 기후, 변화, 대응, 전략, TCFD, 보고서, 발간, SK, 케...   \n",
            "4      [삼성, LG, 전자, KES, 참가, 혁신, 제품, 경쟁, 삼성, 전자, 스마트,...   \n",
            "...                                                  ...   \n",
            "10433  [예산, 심덕섭, 고창, 군수, 취임, 고창군, 확보, 취임식, 민선, 심덕섭, 전...   \n",
            "10434  [인천, 도, 시공사, 수상, ESG, 공공, 기관, 종합, 대상, 지방, 공기업,...   \n",
            "10435  [예방, 대청호, 녹조, 처리, 금강, 유역, 홍수, 가뭄, 예방, 재해, 주, 목...   \n",
            "10436  [순천향대, 지주, 자회사, IR, 대회, Value, UP, R, BD, 세미나,...   \n",
            "10437  [국립, 생태, 원, 한국, 가스, 공사, 업무, 협약, 멸종, 위기, 보전, 업무...   \n",
            "\n",
            "                                          text_tokenized  \n",
            "0      [SK, 케미칼, 발간, TCFD, 보고서, 기후변화, 공유, 대응, 전략, SK,...  \n",
            "1      [제주, 은행, 사회, 공헌, 비율, 최고, 은행, 제주, 은행, 시중, 은행, 이...  \n",
            "2      [개최, KICOX, 국민, 참여, 혁신, 아이디어, 공모전, 한국, 산업, 공단,...  \n",
            "3      [SK, 케미칼, 기후, 변화, 대응, 전략, TCFD, 보고서, 발간, SK, 케...  \n",
            "4      [삼성, LG, KES, 참가, 혁신, 제품, 경쟁, 삼성, 스마트, 싱스, 활용,...  \n",
            "...                                                  ...  \n",
            "10433  [예산, 심덕섭, 고창, 군수, 취임, 고창군, 확보, 취임식, 민선, 심덕섭, 전...  \n",
            "10434  [인천, 도, 시공사, 수상, ESG, 공공, 기관, 종합, 대상, 지방, 공기업,...  \n",
            "10435  [예방, 대청호, 녹조, 처리, 금강, 유역, 홍수, 가뭄, 예방, 재해, 주, 목...  \n",
            "10436  [순천향대, 지주, 자회사, IR, 대회, Value, UP, R, BD, 세미나,...  \n",
            "10437  [국립, 생태, 원, 한국, 가스, 공사, 업무, 협약, 멸종, 위기, 보전, 업무...  \n",
            "\n",
            "[10438 rows x 4 columns]\n"
          ]
        }
      ]
    },
    {
      "cell_type": "code",
      "source": [
        "tokenized_doc=cs['text_tokenized']"
      ],
      "metadata": {
        "id": "tkWlvXqVIC1a"
      },
      "execution_count": 13,
      "outputs": []
    },
    {
      "cell_type": "markdown",
      "source": [
        "## Word2Vec"
      ],
      "metadata": {
        "id": "kNw0kuqPM2SK"
      }
    },
    {
      "cell_type": "code",
      "source": [
        "tokenized_do= list(tokenized_doc)\n",
        "\n",
        "from tensorflow.keras.preprocessing.text import Tokenizer\n",
        "tokenizer = Tokenizer()\n",
        "\n",
        "tokenizer.fit_on_texts(tokenized_do)"
      ],
      "metadata": {
        "id": "UnhcG_IzH7V7"
      },
      "execution_count": 14,
      "outputs": []
    },
    {
      "cell_type": "code",
      "source": [
        "# 정수 인코딩\n",
        "word2idx = tokenizer.word_index\n",
        "idx2word = {v:k for k, v in word2idx.items()}\n",
        "encoded = tokenizer.texts_to_sequences(tokenized_do)\n",
        "\n",
        "vocab_size = len(word2idx) + 1 \n",
        "print('단어 집합의 크기 :', vocab_size)"
      ],
      "metadata": {
        "colab": {
          "base_uri": "https://localhost:8080/"
        },
        "id": "pM8G5LgHIM3J",
        "outputId": "9f0f293d-164e-450d-8b78-0c669e68bc9f"
      },
      "execution_count": 15,
      "outputs": [
        {
          "output_type": "stream",
          "name": "stdout",
          "text": [
            "단어 집합의 크기 : 37932\n"
          ]
        }
      ]
    },
    {
      "cell_type": "code",
      "source": [
        "import gensim\n",
        "from gensim.models import Word2Vec, FastText\n",
        "\n",
        "model = Word2Vec(tokenized_do,  min_count=3)"
      ],
      "metadata": {
        "id": "xNBovHP5IQPm"
      },
      "execution_count": 16,
      "outputs": []
    },
    {
      "cell_type": "code",
      "source": [
        "model.wv.vectors.shape "
      ],
      "metadata": {
        "colab": {
          "base_uri": "https://localhost:8080/"
        },
        "id": "CUAKDuItL9a2",
        "outputId": "dec4db29-254e-44c1-fb31-66ed012b8833"
      },
      "execution_count": 17,
      "outputs": [
        {
          "output_type": "execute_result",
          "data": {
            "text/plain": [
              "(21848, 100)"
            ]
          },
          "metadata": {},
          "execution_count": 17
        }
      ]
    },
    {
      "cell_type": "code",
      "source": [
        "from gensim.models import KeyedVectors\n",
        "import os\n",
        "\n",
        "model.wv.save_word2vec_format('esg_mba') # 모델 저장\n",
        "loaded_model = KeyedVectors.load_word2vec_format('esg_mba')\n",
        "!python -m gensim.scripts.word2vec2tensor --input esg_mba --output esg_mba"
      ],
      "metadata": {
        "id": "zRh7Jno7ViQm",
        "colab": {
          "base_uri": "https://localhost:8080/"
        },
        "outputId": "d7bc1d1f-dbb8-43f4-ca02-c853267783fd"
      },
      "execution_count": 19,
      "outputs": [
        {
          "output_type": "stream",
          "name": "stdout",
          "text": [
            "2022-10-07 05:52:05,049 - word2vec2tensor - INFO - running /usr/local/lib/python3.7/dist-packages/gensim/scripts/word2vec2tensor.py --input esg_mba --output esg_mba\n",
            "2022-10-07 05:52:05,049 - utils_any2vec - INFO - loading projection weights from esg_mba\n",
            "2022-10-07 05:52:06,196 - utils_any2vec - INFO - loaded (21848, 100) matrix from esg_mba\n",
            "2022-10-07 05:52:07,770 - word2vec2tensor - INFO - 2D tensor file saved to esg_mba_tensor.tsv\n",
            "2022-10-07 05:52:07,770 - word2vec2tensor - INFO - Tensor metadata file saved to esg_mba_metadata.tsv\n",
            "2022-10-07 05:52:07,773 - word2vec2tensor - INFO - finished running word2vec2tensor.py\n"
          ]
        }
      ]
    }
  ]
}