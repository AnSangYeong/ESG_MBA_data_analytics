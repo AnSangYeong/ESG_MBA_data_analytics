{
  "nbformat": 4,
  "nbformat_minor": 0,
  "metadata": {
    "colab": {
      "provenance": [],
      "collapsed_sections": [
        "cD_-l4cmNaIu",
        "OwikZDFuPVFP"
      ],
      "include_colab_link": true
    },
    "kernelspec": {
      "name": "python3",
      "display_name": "Python 3"
    },
    "language_info": {
      "name": "python"
    }
  },
  "cells": [
    {
      "cell_type": "markdown",
      "metadata": {
        "id": "view-in-github",
        "colab_type": "text"
      },
      "source": [
        "<a href=\"https://colab.research.google.com/github/SyncHJ/ESG_MBA_data_analytics/blob/main/ESG_MBA_10%EC%9B%94_08%EC%9D%BC.ipynb\" target=\"_parent\"><img src=\"https://colab.research.google.com/assets/colab-badge.svg\" alt=\"Open In Colab\"/></a>"
      ]
    },
    {
      "cell_type": "code",
      "source": [
        "pip install konlpy"
      ],
      "metadata": {
        "colab": {
          "base_uri": "https://localhost:8080/"
        },
        "id": "FxSKycEni1OD",
        "outputId": "5408827c-2087-43f0-fbb0-2743bc2a397c"
      },
      "execution_count": null,
      "outputs": [
        {
          "output_type": "stream",
          "name": "stdout",
          "text": [
            "Looking in indexes: https://pypi.org/simple, https://us-python.pkg.dev/colab-wheels/public/simple/\n",
            "Collecting konlpy\n",
            "  Downloading konlpy-0.6.0-py2.py3-none-any.whl (19.4 MB)\n",
            "\u001b[K     |████████████████████████████████| 19.4 MB 1.4 MB/s \n",
            "\u001b[?25hCollecting JPype1>=0.7.0\n",
            "  Downloading JPype1-1.4.0-cp37-cp37m-manylinux_2_5_x86_64.manylinux1_x86_64.whl (453 kB)\n",
            "\u001b[K     |████████████████████████████████| 453 kB 62.4 MB/s \n",
            "\u001b[?25hRequirement already satisfied: lxml>=4.1.0 in /usr/local/lib/python3.7/dist-packages (from konlpy) (4.9.1)\n",
            "Requirement already satisfied: numpy>=1.6 in /usr/local/lib/python3.7/dist-packages (from konlpy) (1.21.6)\n",
            "Requirement already satisfied: typing-extensions in /usr/local/lib/python3.7/dist-packages (from JPype1>=0.7.0->konlpy) (4.1.1)\n",
            "Installing collected packages: JPype1, konlpy\n",
            "Successfully installed JPype1-1.4.0 konlpy-0.6.0\n"
          ]
        }
      ]
    },
    {
      "cell_type": "code",
      "source": [
        "pip install xlsxwriter"
      ],
      "metadata": {
        "colab": {
          "base_uri": "https://localhost:8080/"
        },
        "id": "hLORYCzBjHXA",
        "outputId": "42e34f37-5806-4b6e-ab8e-af4e80ddf57f"
      },
      "execution_count": null,
      "outputs": [
        {
          "output_type": "stream",
          "name": "stdout",
          "text": [
            "Looking in indexes: https://pypi.org/simple, https://us-python.pkg.dev/colab-wheels/public/simple/\n",
            "Collecting xlsxwriter\n",
            "  Downloading XlsxWriter-3.0.3-py3-none-any.whl (149 kB)\n",
            "\u001b[K     |████████████████████████████████| 149 kB 5.0 MB/s \n",
            "\u001b[?25hInstalling collected packages: xlsxwriter\n",
            "Successfully installed xlsxwriter-3.0.3\n"
          ]
        }
      ]
    },
    {
      "cell_type": "code",
      "source": [
        "import pandas as pd\n",
        "import matplotlib.pyplot as plt\n",
        "import urllib.request\n",
        "from gensim.models.word2vec import Word2Vec\n",
        "from konlpy.tag import Okt"
      ],
      "metadata": {
        "id": "x9LAPpkuJFqh"
      },
      "execution_count": null,
      "outputs": []
    },
    {
      "cell_type": "code",
      "source": [
        "import re\n",
        "import os\n",
        "import numpy as np\n",
        "import pandas as pd\n",
        "from konlpy.tag import Okt\n",
        "import nltk\n",
        "from nltk.corpus import stopwords\n",
        "\n",
        "import matplotlib.pyplot as plt\n",
        "import matplotlib.font_manager as fm\n",
        "from matplotlib import font_manager, rc\n",
        "\n",
        "import xlsxwriter\n",
        "from openpyxl import Workbook\n",
        "\n",
        "font_path ='./NanumGothic.ttf'\n",
        "fontprop = fm.FontProperties(fname=font_path, size=18)\n",
        "rc('font', family='AppleGothic')\n",
        "\n",
        "okt = Okt()\n",
        "\n",
        "# driver_path = r'/Users/mac_h/Desktop'\n",
        "# os.chdir(driver_path)\n",
        "data = pd.read_excel('/content/ESG_sp.xlsx',engine='openpyxl')\n",
        "# csa=pd.read_csv(\"ESG_sp.csv\", encoding='cp949')"
      ],
      "metadata": {
        "id": "zyxJostFMDDi"
      },
      "execution_count": null,
      "outputs": []
    },
    {
      "cell_type": "code",
      "source": [
        "print(len(data)) #데이터 값이 몇 개 있는지 확인"
      ],
      "metadata": {
        "colab": {
          "base_uri": "https://localhost:8080/"
        },
        "id": "-fmCqDWaJl7v",
        "outputId": "097be2b0-2a4b-4bc6-c4df-614b4d71f942"
      },
      "execution_count": null,
      "outputs": [
        {
          "output_type": "stream",
          "name": "stdout",
          "text": [
            "10438\n"
          ]
        }
      ]
    },
    {
      "cell_type": "code",
      "source": [
        "print(data.isnull().values.any()) #결측치 값 유무 확인 (true -> 결측치 있음, False -> 결측치 없음)"
      ],
      "metadata": {
        "colab": {
          "base_uri": "https://localhost:8080/"
        },
        "id": "1Ee_38jKJzWG",
        "outputId": "4ac83076-b1e9-4efd-8b4c-3ae29fc61b50"
      },
      "execution_count": null,
      "outputs": [
        {
          "output_type": "stream",
          "name": "stdout",
          "text": [
            "True\n"
          ]
        }
      ]
    },
    {
      "cell_type": "code",
      "source": [
        "import re\n",
        " \n",
        "def preprocessing(text):\n",
        "    # 특수문자나 이모티콘 등 아래의 특수기호들을 제거합니다(%등은 남김).\n",
        "    text = re.sub('[?.,;:|\\)*~`’!^\\-_+<>@\\#$%&-=#}※]', '', text)   \n",
        "    #  re.sub는 위에서 특수문자를 제거한 text에서 한글, 영문만 남기고 모두 제거하도록 합니다.\n",
        "    text = re.sub('[^가-힣ㄱ-ㅎㅏ-ㅣa-zA-Z0-9]', ' ', text)\n",
        "    return text\n",
        "\n",
        "def clean_text(text):\n",
        "    text = str(text)\n",
        "    text = re.sub('\\S*@\\S*\\s?', '', text) # 기자 emails 제거\n",
        "    text = re.sub(r'\\[.*?\\]', '', text) # 대괄호 안에 텍스트 제거 : 뉴스이름 + 기자이름\n",
        "    text = re.sub(r'\\(.*?\\)', '', text) # 소괄호 안에 텍스트 제거 : 뉴스이름 + 기자이름\n",
        "    text = re.sub(r'\\w*\\d\\w*', '', text) # 숫자 포함하는 텍스트 제거\n",
        "\n",
        "    text = re.sub('http[s]?://\\S+', '', text) # http url 제거\n",
        "    \n",
        "#     for p in press:\n",
        "#         text = re.sub(str(p),'',text)\n",
        "#     # 특수문자나 이모티콘 등 아래의 특수기호들을 제거합니다(%등은 남김).\n",
        "#     text = re.sub('[?.,;:|\\)*~`’!^\\-_+<>@\\#$%&-=#}※]', '', text)\n",
        "    \n",
        "    # 위에서 특수문자를 제거한 text에서 한글, 영문만 남기고 모두 제거하도록 합니다.\n",
        "    text = re.sub('[^가-힣ㄱ-ㅎㅏ-ㅣa-zA-Z0-9]', ' ', text)\n",
        "    \n",
        "    # text = re.sub('\\s* 기자', \"\", text)\n",
        "    text = re.sub(\"\\n\", '', text) #개행문자 제거\n",
        "    text = re.sub(\"\\xa0\", '', text) #개행문자 제거\n",
        "\n",
        "    return text"
      ],
      "metadata": {
        "id": "6EGx6m-8LryK"
      },
      "execution_count": null,
      "outputs": []
    },
    {
      "cell_type": "code",
      "source": [
        "# 불용어 제거 작업\n",
        "import json #json 파일을 불러오기 한 뒤에 아래 Stopworkd.extend에서 추가를 해서 지울 것들 만들면 됨\n",
        "with open('korean_stopword.json',encoding='utf8') as f:  # 분석하고자 파일과 동일한 폴더(위치)에 있어야 한다\n",
        "    stopwords = json.load(f)"
      ],
      "metadata": {
        "id": "u37adfXsH_EY"
      },
      "execution_count": null,
      "outputs": []
    },
    {
      "cell_type": "code",
      "source": [
        "cs = pd.DataFrame()\n",
        "cs['keywords'] = data['keywords'] # content와 sentiment 계산 # column이 하나일 때는 [] 를 한번만 사용\n",
        "\n",
        "\n",
        "cs['text_clean']=pd.DataFrame(cs['keywords'].apply(lambda x: clean_text(x)))\n",
        "\n",
        "# stopwords를 하기 위해서는 tokenize를 먼저 해야 함 (계속해서 불필요한 단어들을 보면서 제거)\n",
        "cs['text_ko'] = [okt.morphs(doc) for doc in cs.text_clean]\n",
        "cs['text_tokenized'] = cs.text_ko.apply(lambda x: [ a for a in x if a not in stopwords])"
      ],
      "metadata": {
        "id": "2HQ6WP5DKJXt"
      },
      "execution_count": null,
      "outputs": []
    },
    {
      "cell_type": "code",
      "source": [
        "print(cs)\n",
        "\n",
        "# text_clean 된 것만 사용해서 분석은 안되나요?????????????\n",
        "# tokenized되니 단어가 너무 쪼개지는 것 같아서...."
      ],
      "metadata": {
        "id": "x-ra9Ml5LzTS",
        "colab": {
          "base_uri": "https://localhost:8080/"
        },
        "outputId": "4482ef4d-6d5e-491c-b03f-d361da137b34"
      },
      "execution_count": null,
      "outputs": [
        {
          "output_type": "stream",
          "name": "stdout",
          "text": [
            "                                                keywords  \\\n",
            "0      SK케미칼,발간,TCFD,보고서,기후변화,공유,대응,전략,SK케미칼,생산,제품,생애...   \n",
            "1      제주은행,사회,공헌비율,최고,은행,제주은행,시중,은행,이익,대비,사회,공헌,비율,국...   \n",
            "2      개최,KICOX,국민,참여,혁신,아이디어,공모전,한국산업단지공단,국민,목소리,아이디...   \n",
            "3      SK케미칼,기후,변화,대응,전략,TCFD,보고서,발간,SK,케미칼,TCFD,보고서,...   \n",
            "4      삼성,LG전자,KES,참가,혁신제품,경쟁,삼성전자,스마트싱스,활용,체험존,마련,삼성...   \n",
            "...                                                  ...   \n",
            "10433  예산,심덕섭,고창,군수,취임,고창군,확보,취임식,민선,심덕섭,전북,고창,군수,고창,...   \n",
            "10434  인천도시공사,수상,ESG,공공,기관,종합,대상,지방공기업,발행,ESG,채권,ESG,...   \n",
            "10435  예방,대청호,녹조,처리,금강,유역,홍수,가뭄,예방,재해,주목적,준공,대청호,대전,충...   \n",
            "10436  순천향대,지주,자회사,IR,대회,Value-UP,R&BD,세미나,개최,아산,순천향대...   \n",
            "10437  국립,생태원,한국가스공사,업무협약,멸종,위기,보전,업무,협약,서천,국립생태원,원장,...   \n",
            "\n",
            "                                              text_clean  \\\n",
            "0      SK케미칼 발간 TCFD 보고서 기후변화 공유 대응 전략 SK케미칼 생산 제품 생애...   \n",
            "1      제주은행 사회 공헌비율 최고 은행 제주은행 시중 은행 이익 대비 사회 공헌 비율 국...   \n",
            "2      개최 KICOX 국민 참여 혁신 아이디어 공모전 한국산업단지공단 국민 목소리 아이디...   \n",
            "3      SK케미칼 기후 변화 대응 전략 TCFD 보고서 발간 SK 케미칼 TCFD 보고서 ...   \n",
            "4      삼성 LG전자 KES 참가 혁신제품 경쟁 삼성전자 스마트싱스 활용 체험존 마련 삼성...   \n",
            "...                                                  ...   \n",
            "10433  예산 심덕섭 고창 군수 취임 고창군 확보 취임식 민선 심덕섭 전북 고창 군수 고창 ...   \n",
            "10434  인천도시공사 수상 ESG 공공 기관 종합 대상 지방공기업 발행 ESG 채권 ESG ...   \n",
            "10435  예방 대청호 녹조 처리 금강 유역 홍수 가뭄 예방 재해 주목적 준공 대청호 대전 충...   \n",
            "10436  순천향대 지주 자회사 IR 대회 Value UP R BD 세미나 개최 아산 순천향대...   \n",
            "10437  국립 생태원 한국가스공사 업무협약 멸종 위기 보전 업무 협약 서천 국립생태원 원장 ...   \n",
            "\n",
            "                                                 text_ko  \\\n",
            "0      [SK, 케미칼, 발간, TCFD, 보고서, 기후변화, 공유, 대응, 전략, SK,...   \n",
            "1      [제주, 은행, 사회, 공헌, 비율, 최고, 은행, 제주, 은행, 시중, 은행, 이...   \n",
            "2      [개최, KICOX, 국민, 참여, 혁신, 아이디어, 공모전, 한국, 산업, 단지,...   \n",
            "3      [SK, 케미칼, 기후, 변화, 대응, 전략, TCFD, 보고서, 발간, SK, 케...   \n",
            "4      [삼성, LG, 전자, KES, 참가, 혁신, 제품, 경쟁, 삼성, 전자, 스마트,...   \n",
            "...                                                  ...   \n",
            "10433  [예산, 심덕섭, 고창, 군수, 취임, 고창군, 확보, 취임식, 민선, 심덕섭, 전...   \n",
            "10434  [인천, 도, 시공사, 수상, ESG, 공공, 기관, 종합, 대상, 지방, 공기업,...   \n",
            "10435  [예방, 대청호, 녹조, 처리, 금강, 유역, 홍수, 가뭄, 예방, 재해, 주, 목...   \n",
            "10436  [순천향대, 지주, 자회사, IR, 대회, Value, UP, R, BD, 세미나,...   \n",
            "10437  [국립, 생태, 원, 한국, 가스, 공사, 업무, 협약, 멸종, 위기, 보전, 업무...   \n",
            "\n",
            "                                          text_tokenized  \n",
            "0      [SK, 케미칼, 발간, TCFD, 보고서, 기후변화, 공유, 대응, 전략, SK,...  \n",
            "1      [제주, 은행, 사회, 공헌, 비율, 최고, 은행, 제주, 은행, 시중, 은행, 이...  \n",
            "2      [개최, KICOX, 국민, 참여, 혁신, 아이디어, 공모전, 한국, 산업, 공단,...  \n",
            "3      [SK, 케미칼, 기후, 변화, 대응, 전략, TCFD, 보고서, 발간, SK, 케...  \n",
            "4      [삼성, LG, KES, 참가, 혁신, 제품, 경쟁, 삼성, 스마트, 싱스, 활용,...  \n",
            "...                                                  ...  \n",
            "10433  [예산, 심덕섭, 고창, 군수, 취임, 고창군, 확보, 취임식, 민선, 심덕섭, 전...  \n",
            "10434  [인천, 도, 시공사, 수상, ESG, 공공, 기관, 종합, 대상, 지방, 공기업,...  \n",
            "10435  [예방, 대청호, 녹조, 처리, 금강, 유역, 홍수, 가뭄, 예방, 재해, 주, 목...  \n",
            "10436  [순천향대, 지주, 자회사, IR, 대회, Value, UP, R, BD, 세미나,...  \n",
            "10437  [국립, 생태, 원, 한국, 가스, 공사, 업무, 협약, 멸종, 위기, 보전, 업무...  \n",
            "\n",
            "[10438 rows x 4 columns]\n"
          ]
        }
      ]
    },
    {
      "cell_type": "code",
      "source": [
        "tokenized_doc=cs['text_tokenized']"
      ],
      "metadata": {
        "id": "tkWlvXqVIC1a"
      },
      "execution_count": null,
      "outputs": []
    },
    {
      "cell_type": "markdown",
      "source": [
        "## Word2Vec"
      ],
      "metadata": {
        "id": "kNw0kuqPM2SK"
      }
    },
    {
      "cell_type": "code",
      "source": [
        "tokenized_do= list(tokenized_doc)\n",
        "\n",
        "from tensorflow.keras.preprocessing.text import Tokenizer\n",
        "tokenizer = Tokenizer()\n",
        "\n",
        "tokenizer.fit_on_texts(tokenized_do)"
      ],
      "metadata": {
        "id": "UnhcG_IzH7V7"
      },
      "execution_count": null,
      "outputs": []
    },
    {
      "cell_type": "code",
      "source": [
        "# 정수 인코딩\n",
        "word2idx = tokenizer.word_index\n",
        "idx2word = {v:k for k, v in word2idx.items()}\n",
        "encoded = tokenizer.texts_to_sequences(tokenized_do)\n",
        "\n",
        "vocab_size = len(word2idx) + 1 \n",
        "print('단어 집합의 크기 :', vocab_size) #단어 집합의 크기 : 812"
      ],
      "metadata": {
        "colab": {
          "base_uri": "https://localhost:8080/"
        },
        "id": "pM8G5LgHIM3J",
        "outputId": "8e53748e-7f08-447d-81b1-056d25008c80"
      },
      "execution_count": null,
      "outputs": [
        {
          "output_type": "stream",
          "name": "stdout",
          "text": [
            "단어 집합의 크기 : 37932\n"
          ]
        }
      ]
    },
    {
      "cell_type": "code",
      "source": [
        "import gensim\n",
        "from gensim.models import Word2Vec, FastText\n",
        "\n",
        "model = Word2Vec(tokenized_do,  min_count=3)"
      ],
      "metadata": {
        "id": "xNBovHP5IQPm"
      },
      "execution_count": null,
      "outputs": []
    },
    {
      "cell_type": "code",
      "source": [
        "model.wv.vectors.shape #(189, 100)"
      ],
      "metadata": {
        "colab": {
          "base_uri": "https://localhost:8080/"
        },
        "id": "CUAKDuItL9a2",
        "outputId": "26dce75c-4254-4b75-ff02-7b20f1778436"
      },
      "execution_count": null,
      "outputs": [
        {
          "output_type": "execute_result",
          "data": {
            "text/plain": [
              "(21848, 100)"
            ]
          },
          "metadata": {},
          "execution_count": 19
        }
      ]
    },
    {
      "cell_type": "code",
      "source": [
        "from gensim.models import KeyedVectors\n",
        "import os\n",
        "\n",
        "model.wv.save_word2vec_format('jang_ta') # 모델 저장\n",
        "loaded_model = KeyedVectors.load_word2vec_format('jang_ta')\n",
        "!python -m gensim.scripts.word2vec2tensor --input jang_ta --output jang_ta"
      ],
      "metadata": {
        "id": "zRh7Jno7ViQm",
        "colab": {
          "base_uri": "https://localhost:8080/"
        },
        "outputId": "8f5a4fbb-90e6-4845-f3a7-76aaa1243d75"
      },
      "execution_count": null,
      "outputs": [
        {
          "output_type": "stream",
          "name": "stdout",
          "text": [
            "2022-10-05 05:37:51,072 - word2vec2tensor - INFO - running /usr/local/lib/python3.7/dist-packages/gensim/scripts/word2vec2tensor.py --input jang_ta --output jang_ta\n",
            "2022-10-05 05:37:51,072 - utils_any2vec - INFO - loading projection weights from jang_ta\n",
            "2022-10-05 05:37:52,304 - utils_any2vec - INFO - loaded (21848, 100) matrix from jang_ta\n",
            "2022-10-05 05:37:54,046 - word2vec2tensor - INFO - 2D tensor file saved to jang_ta_tensor.tsv\n",
            "2022-10-05 05:37:54,046 - word2vec2tensor - INFO - Tensor metadata file saved to jang_ta_metadata.tsv\n",
            "2022-10-05 05:37:54,049 - word2vec2tensor - INFO - finished running word2vec2tensor.py\n"
          ]
        }
      ]
    },
    {
      "cell_type": "code",
      "source": [
        "# 가시화 하는 방법은... 카톡으로 드린 이미지 참고!"
      ],
      "metadata": {
        "id": "FIYbAcLwLthA"
      },
      "execution_count": null,
      "outputs": []
    },
    {
      "cell_type": "markdown",
      "source": [
        "## K-means"
      ],
      "metadata": {
        "id": "cD_-l4cmNaIu"
      }
    },
    {
      "cell_type": "code",
      "source": [
        "cs['text_tokenized_str']=cs['text_tokenized'].apply(lambda x: \" \".join(x))\n",
        "cs['text_tokenized_str']"
      ],
      "metadata": {
        "colab": {
          "base_uri": "https://localhost:8080/"
        },
        "id": "T_ztTN00NdKH",
        "outputId": "60fe9c61-05e2-4d76-fe0c-f77bdca3c483"
      },
      "execution_count": null,
      "outputs": [
        {
          "output_type": "execute_result",
          "data": {
            "text/plain": [
              "0        SK 케미칼 발간 TCFD 보고서 기후변화 공유 대응 전략 SK 케미칼 생산 제품 ...\n",
              "1        제주 은행 사회 공헌 비율 최고 은행 제주 은행 시중 은행 이익 대비 사회 공헌 비...\n",
              "2        개최 KICOX 국민 참여 혁신 아이디어 공모전 한국 산업 공단 국민 목소리 아이디...\n",
              "3        SK 케미칼 기후 변화 대응 전략 TCFD 보고서 발간 SK 케미칼 TCFD 보고서...\n",
              "4        삼성 LG KES 참가 혁신 제품 경쟁 삼성 스마트 싱스 활용 체험 존 마련 삼성 ...\n",
              "                               ...                        \n",
              "10433    예산 심덕섭 고창 군수 취임 고창군 확보 취임식 민선 심덕섭 전북 고창 군수 고창 ...\n",
              "10434    인천 도 시공사 수상 ESG 공공 기관 종합 대상 지방 공기업 발행 ESG 채권 E...\n",
              "10435    예방 대청호 녹조 처리 금강 유역 홍수 가뭄 예방 재해 주 목적 준공 대청호 대전 ...\n",
              "10436    순천향대 지주 자회사 IR 대회 Value UP R BD 세미나 개최 아산 순천향대...\n",
              "10437    국립 생태 원 한국 가스 공사 업무 협약 멸종 위기 보전 업무 협약 서천 국립생태원...\n",
              "Name: text_tokenized_str, Length: 10438, dtype: object"
            ]
          },
          "metadata": {},
          "execution_count": 21
        }
      ]
    },
    {
      "cell_type": "code",
      "source": [
        "from sklearn.feature_extraction.text import TfidfVectorizer\n",
        "\n",
        "tfidfv = TfidfVectorizer(stop_words='english',ngram_range=(1,2), min_df=0.05,max_df=0.95)\n",
        "feature_vect=tfidfv.fit_transform(cs['text_tokenized_str'])"
      ],
      "metadata": {
        "id": "yb5Lnh7TNdc5"
      },
      "execution_count": null,
      "outputs": []
    },
    {
      "cell_type": "code",
      "source": [
        "from sklearn.cluster import KMeans\n",
        "\n",
        "# 10개 집합으로 군집화 수행. 예제를 위해 동일한 클러스터링 결과 도출용 random_state=0 \n",
        "km_cluster = KMeans(n_clusters=20, max_iter=10000, random_state=0)\n",
        "km_cluster.fit(feature_vect)\n",
        "cluster_label = km_cluster.labels_\n",
        "cluster_centers = km_cluster.cluster_centers_"
      ],
      "metadata": {
        "id": "NH8lmWC7NdtI"
      },
      "execution_count": null,
      "outputs": []
    },
    {
      "cell_type": "code",
      "source": [
        "print(cluster_label)\n",
        "print(cluster_centers)"
      ],
      "metadata": {
        "colab": {
          "base_uri": "https://localhost:8080/"
        },
        "id": "haBkkbTeNd8H",
        "outputId": "a77d07cb-a415-4693-96b2-3ffc3b210497"
      },
      "execution_count": null,
      "outputs": [
        {
          "output_type": "stream",
          "name": "stdout",
          "text": [
            "[ 5 15 10 ...  0 10 14]\n",
            "[[0.00264027 0.02466952 0.01723571 ... 0.00845778 0.0009702  0.00143949]\n",
            " [0.00156828 0.04038254 0.01446241 ... 0.0009911  0.0390046  0.02302794]\n",
            " [0.01307438 0.02134682 0.01208433 ... 0.05120065 0.00105331 0.00130013]\n",
            " ...\n",
            " [0.01325755 0.02488062 0.01319412 ... 0.00468638 0.00845469 0.00539309]\n",
            " [0.00088099 0.03821905 0.01223898 ... 0.014762   0.00016445 0.00183061]\n",
            " [0.00307286 0.02440744 0.00936643 ... 0.00423582 0.01676136 0.01337775]]\n"
          ]
        }
      ]
    },
    {
      "cell_type": "code",
      "source": [
        "cs['cluster_label'] = cluster_label\n",
        "cs.head()"
      ],
      "metadata": {
        "colab": {
          "base_uri": "https://localhost:8080/",
          "height": 337
        },
        "id": "MPQ34uHpOVuG",
        "outputId": "e5a24c19-fd56-421e-9bb3-5683fa57f34c"
      },
      "execution_count": null,
      "outputs": [
        {
          "output_type": "execute_result",
          "data": {
            "text/plain": [
              "                                            keywords  \\\n",
              "0  SK케미칼,발간,TCFD,보고서,기후변화,공유,대응,전략,SK케미칼,생산,제품,생애...   \n",
              "1  제주은행,사회,공헌비율,최고,은행,제주은행,시중,은행,이익,대비,사회,공헌,비율,국...   \n",
              "2  개최,KICOX,국민,참여,혁신,아이디어,공모전,한국산업단지공단,국민,목소리,아이디...   \n",
              "3  SK케미칼,기후,변화,대응,전략,TCFD,보고서,발간,SK,케미칼,TCFD,보고서,...   \n",
              "4  삼성,LG전자,KES,참가,혁신제품,경쟁,삼성전자,스마트싱스,활용,체험존,마련,삼성...   \n",
              "\n",
              "                                          text_clean  \\\n",
              "0  SK케미칼 발간 TCFD 보고서 기후변화 공유 대응 전략 SK케미칼 생산 제품 생애...   \n",
              "1  제주은행 사회 공헌비율 최고 은행 제주은행 시중 은행 이익 대비 사회 공헌 비율 국...   \n",
              "2  개최 KICOX 국민 참여 혁신 아이디어 공모전 한국산업단지공단 국민 목소리 아이디...   \n",
              "3  SK케미칼 기후 변화 대응 전략 TCFD 보고서 발간 SK 케미칼 TCFD 보고서 ...   \n",
              "4  삼성 LG전자 KES 참가 혁신제품 경쟁 삼성전자 스마트싱스 활용 체험존 마련 삼성...   \n",
              "\n",
              "                                             text_ko  \\\n",
              "0  [SK, 케미칼, 발간, TCFD, 보고서, 기후변화, 공유, 대응, 전략, SK,...   \n",
              "1  [제주, 은행, 사회, 공헌, 비율, 최고, 은행, 제주, 은행, 시중, 은행, 이...   \n",
              "2  [개최, KICOX, 국민, 참여, 혁신, 아이디어, 공모전, 한국, 산업, 단지,...   \n",
              "3  [SK, 케미칼, 기후, 변화, 대응, 전략, TCFD, 보고서, 발간, SK, 케...   \n",
              "4  [삼성, LG, 전자, KES, 참가, 혁신, 제품, 경쟁, 삼성, 전자, 스마트,...   \n",
              "\n",
              "                                      text_tokenized  \\\n",
              "0  [SK, 케미칼, 발간, TCFD, 보고서, 기후변화, 공유, 대응, 전략, SK,...   \n",
              "1  [제주, 은행, 사회, 공헌, 비율, 최고, 은행, 제주, 은행, 시중, 은행, 이...   \n",
              "2  [개최, KICOX, 국민, 참여, 혁신, 아이디어, 공모전, 한국, 산업, 공단,...   \n",
              "3  [SK, 케미칼, 기후, 변화, 대응, 전략, TCFD, 보고서, 발간, SK, 케...   \n",
              "4  [삼성, LG, KES, 참가, 혁신, 제품, 경쟁, 삼성, 스마트, 싱스, 활용,...   \n",
              "\n",
              "                                  text_tokenized_str  cluster_label  \n",
              "0  SK 케미칼 발간 TCFD 보고서 기후변화 공유 대응 전략 SK 케미칼 생산 제품 ...              5  \n",
              "1  제주 은행 사회 공헌 비율 최고 은행 제주 은행 시중 은행 이익 대비 사회 공헌 비...             15  \n",
              "2  개최 KICOX 국민 참여 혁신 아이디어 공모전 한국 산업 공단 국민 목소리 아이디...             10  \n",
              "3  SK 케미칼 기후 변화 대응 전략 TCFD 보고서 발간 SK 케미칼 TCFD 보고서...              5  \n",
              "4  삼성 LG KES 참가 혁신 제품 경쟁 삼성 스마트 싱스 활용 체험 존 마련 삼성 ...             12  "
            ],
            "text/html": [
              "\n",
              "  <div id=\"df-a2096eb2-4cb7-4afd-8402-309f115b41c4\">\n",
              "    <div class=\"colab-df-container\">\n",
              "      <div>\n",
              "<style scoped>\n",
              "    .dataframe tbody tr th:only-of-type {\n",
              "        vertical-align: middle;\n",
              "    }\n",
              "\n",
              "    .dataframe tbody tr th {\n",
              "        vertical-align: top;\n",
              "    }\n",
              "\n",
              "    .dataframe thead th {\n",
              "        text-align: right;\n",
              "    }\n",
              "</style>\n",
              "<table border=\"1\" class=\"dataframe\">\n",
              "  <thead>\n",
              "    <tr style=\"text-align: right;\">\n",
              "      <th></th>\n",
              "      <th>keywords</th>\n",
              "      <th>text_clean</th>\n",
              "      <th>text_ko</th>\n",
              "      <th>text_tokenized</th>\n",
              "      <th>text_tokenized_str</th>\n",
              "      <th>cluster_label</th>\n",
              "    </tr>\n",
              "  </thead>\n",
              "  <tbody>\n",
              "    <tr>\n",
              "      <th>0</th>\n",
              "      <td>SK케미칼,발간,TCFD,보고서,기후변화,공유,대응,전략,SK케미칼,생산,제품,생애...</td>\n",
              "      <td>SK케미칼 발간 TCFD 보고서 기후변화 공유 대응 전략 SK케미칼 생산 제품 생애...</td>\n",
              "      <td>[SK, 케미칼, 발간, TCFD, 보고서, 기후변화, 공유, 대응, 전략, SK,...</td>\n",
              "      <td>[SK, 케미칼, 발간, TCFD, 보고서, 기후변화, 공유, 대응, 전략, SK,...</td>\n",
              "      <td>SK 케미칼 발간 TCFD 보고서 기후변화 공유 대응 전략 SK 케미칼 생산 제품 ...</td>\n",
              "      <td>5</td>\n",
              "    </tr>\n",
              "    <tr>\n",
              "      <th>1</th>\n",
              "      <td>제주은행,사회,공헌비율,최고,은행,제주은행,시중,은행,이익,대비,사회,공헌,비율,국...</td>\n",
              "      <td>제주은행 사회 공헌비율 최고 은행 제주은행 시중 은행 이익 대비 사회 공헌 비율 국...</td>\n",
              "      <td>[제주, 은행, 사회, 공헌, 비율, 최고, 은행, 제주, 은행, 시중, 은행, 이...</td>\n",
              "      <td>[제주, 은행, 사회, 공헌, 비율, 최고, 은행, 제주, 은행, 시중, 은행, 이...</td>\n",
              "      <td>제주 은행 사회 공헌 비율 최고 은행 제주 은행 시중 은행 이익 대비 사회 공헌 비...</td>\n",
              "      <td>15</td>\n",
              "    </tr>\n",
              "    <tr>\n",
              "      <th>2</th>\n",
              "      <td>개최,KICOX,국민,참여,혁신,아이디어,공모전,한국산업단지공단,국민,목소리,아이디...</td>\n",
              "      <td>개최 KICOX 국민 참여 혁신 아이디어 공모전 한국산업단지공단 국민 목소리 아이디...</td>\n",
              "      <td>[개최, KICOX, 국민, 참여, 혁신, 아이디어, 공모전, 한국, 산업, 단지,...</td>\n",
              "      <td>[개최, KICOX, 국민, 참여, 혁신, 아이디어, 공모전, 한국, 산업, 공단,...</td>\n",
              "      <td>개최 KICOX 국민 참여 혁신 아이디어 공모전 한국 산업 공단 국민 목소리 아이디...</td>\n",
              "      <td>10</td>\n",
              "    </tr>\n",
              "    <tr>\n",
              "      <th>3</th>\n",
              "      <td>SK케미칼,기후,변화,대응,전략,TCFD,보고서,발간,SK,케미칼,TCFD,보고서,...</td>\n",
              "      <td>SK케미칼 기후 변화 대응 전략 TCFD 보고서 발간 SK 케미칼 TCFD 보고서 ...</td>\n",
              "      <td>[SK, 케미칼, 기후, 변화, 대응, 전략, TCFD, 보고서, 발간, SK, 케...</td>\n",
              "      <td>[SK, 케미칼, 기후, 변화, 대응, 전략, TCFD, 보고서, 발간, SK, 케...</td>\n",
              "      <td>SK 케미칼 기후 변화 대응 전략 TCFD 보고서 발간 SK 케미칼 TCFD 보고서...</td>\n",
              "      <td>5</td>\n",
              "    </tr>\n",
              "    <tr>\n",
              "      <th>4</th>\n",
              "      <td>삼성,LG전자,KES,참가,혁신제품,경쟁,삼성전자,스마트싱스,활용,체험존,마련,삼성...</td>\n",
              "      <td>삼성 LG전자 KES 참가 혁신제품 경쟁 삼성전자 스마트싱스 활용 체험존 마련 삼성...</td>\n",
              "      <td>[삼성, LG, 전자, KES, 참가, 혁신, 제품, 경쟁, 삼성, 전자, 스마트,...</td>\n",
              "      <td>[삼성, LG, KES, 참가, 혁신, 제품, 경쟁, 삼성, 스마트, 싱스, 활용,...</td>\n",
              "      <td>삼성 LG KES 참가 혁신 제품 경쟁 삼성 스마트 싱스 활용 체험 존 마련 삼성 ...</td>\n",
              "      <td>12</td>\n",
              "    </tr>\n",
              "  </tbody>\n",
              "</table>\n",
              "</div>\n",
              "      <button class=\"colab-df-convert\" onclick=\"convertToInteractive('df-a2096eb2-4cb7-4afd-8402-309f115b41c4')\"\n",
              "              title=\"Convert this dataframe to an interactive table.\"\n",
              "              style=\"display:none;\">\n",
              "        \n",
              "  <svg xmlns=\"http://www.w3.org/2000/svg\" height=\"24px\"viewBox=\"0 0 24 24\"\n",
              "       width=\"24px\">\n",
              "    <path d=\"M0 0h24v24H0V0z\" fill=\"none\"/>\n",
              "    <path d=\"M18.56 5.44l.94 2.06.94-2.06 2.06-.94-2.06-.94-.94-2.06-.94 2.06-2.06.94zm-11 1L8.5 8.5l.94-2.06 2.06-.94-2.06-.94L8.5 2.5l-.94 2.06-2.06.94zm10 10l.94 2.06.94-2.06 2.06-.94-2.06-.94-.94-2.06-.94 2.06-2.06.94z\"/><path d=\"M17.41 7.96l-1.37-1.37c-.4-.4-.92-.59-1.43-.59-.52 0-1.04.2-1.43.59L10.3 9.45l-7.72 7.72c-.78.78-.78 2.05 0 2.83L4 21.41c.39.39.9.59 1.41.59.51 0 1.02-.2 1.41-.59l7.78-7.78 2.81-2.81c.8-.78.8-2.07 0-2.86zM5.41 20L4 18.59l7.72-7.72 1.47 1.35L5.41 20z\"/>\n",
              "  </svg>\n",
              "      </button>\n",
              "      \n",
              "  <style>\n",
              "    .colab-df-container {\n",
              "      display:flex;\n",
              "      flex-wrap:wrap;\n",
              "      gap: 12px;\n",
              "    }\n",
              "\n",
              "    .colab-df-convert {\n",
              "      background-color: #E8F0FE;\n",
              "      border: none;\n",
              "      border-radius: 50%;\n",
              "      cursor: pointer;\n",
              "      display: none;\n",
              "      fill: #1967D2;\n",
              "      height: 32px;\n",
              "      padding: 0 0 0 0;\n",
              "      width: 32px;\n",
              "    }\n",
              "\n",
              "    .colab-df-convert:hover {\n",
              "      background-color: #E2EBFA;\n",
              "      box-shadow: 0px 1px 2px rgba(60, 64, 67, 0.3), 0px 1px 3px 1px rgba(60, 64, 67, 0.15);\n",
              "      fill: #174EA6;\n",
              "    }\n",
              "\n",
              "    [theme=dark] .colab-df-convert {\n",
              "      background-color: #3B4455;\n",
              "      fill: #D2E3FC;\n",
              "    }\n",
              "\n",
              "    [theme=dark] .colab-df-convert:hover {\n",
              "      background-color: #434B5C;\n",
              "      box-shadow: 0px 1px 3px 1px rgba(0, 0, 0, 0.15);\n",
              "      filter: drop-shadow(0px 1px 2px rgba(0, 0, 0, 0.3));\n",
              "      fill: #FFFFFF;\n",
              "    }\n",
              "  </style>\n",
              "\n",
              "      <script>\n",
              "        const buttonEl =\n",
              "          document.querySelector('#df-a2096eb2-4cb7-4afd-8402-309f115b41c4 button.colab-df-convert');\n",
              "        buttonEl.style.display =\n",
              "          google.colab.kernel.accessAllowed ? 'block' : 'none';\n",
              "\n",
              "        async function convertToInteractive(key) {\n",
              "          const element = document.querySelector('#df-a2096eb2-4cb7-4afd-8402-309f115b41c4');\n",
              "          const dataTable =\n",
              "            await google.colab.kernel.invokeFunction('convertToInteractive',\n",
              "                                                     [key], {});\n",
              "          if (!dataTable) return;\n",
              "\n",
              "          const docLinkHtml = 'Like what you see? Visit the ' +\n",
              "            '<a target=\"_blank\" href=https://colab.research.google.com/notebooks/data_table.ipynb>data table notebook</a>'\n",
              "            + ' to learn more about interactive tables.';\n",
              "          element.innerHTML = '';\n",
              "          dataTable['output_type'] = 'display_data';\n",
              "          await google.colab.output.renderOutput(dataTable, element);\n",
              "          const docLink = document.createElement('div');\n",
              "          docLink.innerHTML = docLinkHtml;\n",
              "          element.appendChild(docLink);\n",
              "        }\n",
              "      </script>\n",
              "    </div>\n",
              "  </div>\n",
              "  "
            ]
          },
          "metadata": {},
          "execution_count": 25
        }
      ]
    },
    {
      "cell_type": "code",
      "source": [
        "cs[cs['cluster_label']==1].sort_values(by='text_tokenized_str')"
      ],
      "metadata": {
        "colab": {
          "base_uri": "https://localhost:8080/",
          "height": 728
        },
        "id": "UTcOhxOJObcV",
        "outputId": "8d4476b9-a68a-432b-af3e-190693240227"
      },
      "execution_count": null,
      "outputs": [
        {
          "output_type": "execute_result",
          "data": {
            "text/plain": [
              "                                               keywords  \\\n",
              "7447  AGC,테크노한국,양포도서관,10대,E-book,리더기,전자책,기증,AGC화인테크노...   \n",
              "7393  AGC화인테크노한국,양포도서관,경북,구미,양포,도서관,리더기,전자책,기증,ESG,경...   \n",
              "4170  BBQ,아이러브,아프리카,영향력,확산,사회적,앞장,가치,실현,최대,프랜차이즈,제너시...   \n",
              "6145  BC카드,기부,특화,밥바라밥,페이,북머니,체크,카드,출시,이용액,0.1%,청년,취약...   \n",
              "3701  BNK신용정보,추석,이웃,온정,ESG,실천,대표이사,BNK,신용,정보,김성주,대표,...   \n",
              "...                                                 ...   \n",
              "4705  효성첨단소재,효성화학,친환경,금상첨화,챌린지,효성첨단소재,효성화학,신기업가정신,실천...   \n",
              "515   효성,호국,보답,애국,국가유공자,사회적,앞장,효성그룹,슬로건,애국지사,호국,보훈,활...   \n",
              "7866  휠체어,재활치료,활발,장애,아동,지원,경영대상,K-ESG,경영,대상,주식회사,상상,...   \n",
              "8128  휴비스,전주,공장,희망키움,도서,물품,전달,임직원,휴비스,전주,공장,남관초등학교,완...   \n",
              "1177  히어로,카카오모빌리티,승객,수사,택시,기사,표창,카카오모빌리티,택시,운행,시민의식,...   \n",
              "\n",
              "                                             text_clean  \\\n",
              "7447  AGC 테크노한국 양포도서관  E book 리더기 전자책 기증 AGC화인테크노한국 ...   \n",
              "7393  AGC화인테크노한국 양포도서관 경북 구미 양포 도서관 리더기 전자책 기증 ESG 경...   \n",
              "4170  BBQ 아이러브 아프리카 영향력 확산 사회적 앞장 가치 실현 최대 프랜차이즈 제너시...   \n",
              "6145  BC카드 기부 특화 밥바라밥 페이 북머니 체크 카드 출시 이용액    청년 취약 계...   \n",
              "3701  BNK신용정보 추석 이웃 온정 ESG 실천 대표이사 BNK 신용 정보 김성주 대표 ...   \n",
              "...                                                 ...   \n",
              "4705  효성첨단소재 효성화학 친환경 금상첨화 챌린지 효성첨단소재 효성화학 신기업가정신 실천...   \n",
              "515   효성 호국 보답 애국 국가유공자 사회적 앞장 효성그룹 슬로건 애국지사 호국 보훈 활...   \n",
              "7866  휠체어 재활치료 활발 장애 아동 지원 경영대상 K ESG 경영 대상 주식회사 상상 ...   \n",
              "8128  휴비스 전주 공장 희망키움 도서 물품 전달 임직원 휴비스 전주 공장 남관초등학교 완...   \n",
              "1177  히어로 카카오모빌리티 승객 수사 택시 기사 표창 카카오모빌리티 택시 운행 시민의식 ...   \n",
              "\n",
              "                                                text_ko  \\\n",
              "7447  [AGC, 테크노, 한국, 양, 포, 도서관, E, book, 리더, 기, 전자책,...   \n",
              "7393  [AGC, 화인, 테크노, 한국, 양, 포, 도서관, 경북, 구미, 양, 포, 도서...   \n",
              "4170  [BBQ, 아이, 러브, 아프리카, 영향력, 확산, 사회, 적, 앞장, 가치, 실현...   \n",
              "6145  [BC, 카드, 기부, 특화, 밥, 바라, 밥, 페이, 북, 머니, 체크, 카드, ...   \n",
              "3701  [BNK, 신용정보, 추석, 이웃, 온정, ESG, 실천, 대표이사, BNK, 신용...   \n",
              "...                                                 ...   \n",
              "4705  [효성, 첨단, 소재, 효성, 화학, 친환경, 금상첨화, 챌, 린지, 효성, 첨단,...   \n",
              "515   [효성, 호국, 보답, 애국, 국가, 유공, 자, 사회, 적, 앞장, 효성, 그룹,...   \n",
              "7866  [휠체어, 재활, 치료, 활발, 장애, 아동, 지원, 경영, 대상, K, ESG, ...   \n",
              "8128  [휴비스, 전주, 공장, 희망, 키움, 도서, 물품, 전달, 임, 직원, 휴비스, ...   \n",
              "1177  [히어로, 카카오, 모빌리티, 승객, 수사, 택시, 기사, 표창, 카카오, 모빌리티...   \n",
              "\n",
              "                                         text_tokenized  \\\n",
              "7447  [AGC, 테크노, 한국, 양, 포, 도서관, E, book, 리더, 기, 전자책,...   \n",
              "7393  [AGC, 화인, 테크노, 한국, 양, 포, 도서관, 경북, 구미, 양, 포, 도서...   \n",
              "4170  [BBQ, 러브, 아프리카, 영향력, 확산, 사회, 적, 앞장, 가치, 실현, 최대...   \n",
              "6145  [BC, 카드, 기부, 특화, 밥, 바라, 밥, 페이, 북, 머니, 체크, 카드, ...   \n",
              "3701  [BNK, 신용정보, 추석, 이웃, 온정, ESG, 실천, 대표이사, BNK, 신용...   \n",
              "...                                                 ...   \n",
              "4705  [효성, 첨단, 소재, 효성, 화학, 친환경, 금상첨화, 챌, 린지, 효성, 첨단,...   \n",
              "515   [효성, 호국, 보답, 애국, 국가, 유공, 사회, 적, 앞장, 효성, 그룹, 슬로...   \n",
              "7866  [휠체어, 재활, 치료, 활발, 장애, 아동, 지원, 경영, 대상, K, ESG, ...   \n",
              "8128  [휴비스, 전주, 공장, 희망, 키움, 도서, 물품, 전달, 임, 직원, 휴비스, ...   \n",
              "1177  [히어로, 카카오, 모빌리티, 승객, 수사, 택시, 기사, 표창, 카카오, 모빌리티...   \n",
              "\n",
              "                                     text_tokenized_str  cluster_label  \n",
              "7447  AGC 테크노 한국 양 포 도서관 E book 리더 기 전자책 기증 AGC 화인 테...              1  \n",
              "7393  AGC 화인 테크노 한국 양 포 도서관 경북 구미 양 포 도서관 리더 기 전자책 기...              1  \n",
              "4170  BBQ 러브 아프리카 영향력 확산 사회 적 앞장 가치 실현 최대 프랜차이즈 제너시스...              1  \n",
              "6145  BC 카드 기부 특화 밥 바라 밥 페이 북 머니 체크 카드 출시 용액 청년 취약 계...              1  \n",
              "3701  BNK 신용정보 추석 이웃 온정 ESG 실천 대표이사 BNK 신용 정보 김성주 대표...              1  \n",
              "...                                                 ...            ...  \n",
              "4705  효성 첨단 소재 효성 화학 친환경 금상첨화 챌 린지 효성 첨단 소재 효성 화학 신 ...              1  \n",
              "515   효성 호국 보답 애국 국가 유공 사회 적 앞장 효성 그룹 슬로건 애국지사 호국 보훈...              1  \n",
              "7866  휠체어 재활 치료 활발 장애 아동 지원 경영 대상 K ESG 경영 대상 주식회사 상...              1  \n",
              "8128  휴비스 전주 공장 희망 키움 도서 물품 전달 임 직원 휴비스 전주 공장 남관 초등학...              1  \n",
              "1177  히어로 카카오 모빌리티 승객 수사 택시 기사 표창 카카오 모빌리티 택시 운행 시민 ...              1  \n",
              "\n",
              "[815 rows x 6 columns]"
            ],
            "text/html": [
              "\n",
              "  <div id=\"df-86ffa172-e408-4e65-9b53-7b1e8696331c\">\n",
              "    <div class=\"colab-df-container\">\n",
              "      <div>\n",
              "<style scoped>\n",
              "    .dataframe tbody tr th:only-of-type {\n",
              "        vertical-align: middle;\n",
              "    }\n",
              "\n",
              "    .dataframe tbody tr th {\n",
              "        vertical-align: top;\n",
              "    }\n",
              "\n",
              "    .dataframe thead th {\n",
              "        text-align: right;\n",
              "    }\n",
              "</style>\n",
              "<table border=\"1\" class=\"dataframe\">\n",
              "  <thead>\n",
              "    <tr style=\"text-align: right;\">\n",
              "      <th></th>\n",
              "      <th>keywords</th>\n",
              "      <th>text_clean</th>\n",
              "      <th>text_ko</th>\n",
              "      <th>text_tokenized</th>\n",
              "      <th>text_tokenized_str</th>\n",
              "      <th>cluster_label</th>\n",
              "    </tr>\n",
              "  </thead>\n",
              "  <tbody>\n",
              "    <tr>\n",
              "      <th>7447</th>\n",
              "      <td>AGC,테크노한국,양포도서관,10대,E-book,리더기,전자책,기증,AGC화인테크노...</td>\n",
              "      <td>AGC 테크노한국 양포도서관  E book 리더기 전자책 기증 AGC화인테크노한국 ...</td>\n",
              "      <td>[AGC, 테크노, 한국, 양, 포, 도서관, E, book, 리더, 기, 전자책,...</td>\n",
              "      <td>[AGC, 테크노, 한국, 양, 포, 도서관, E, book, 리더, 기, 전자책,...</td>\n",
              "      <td>AGC 테크노 한국 양 포 도서관 E book 리더 기 전자책 기증 AGC 화인 테...</td>\n",
              "      <td>1</td>\n",
              "    </tr>\n",
              "    <tr>\n",
              "      <th>7393</th>\n",
              "      <td>AGC화인테크노한국,양포도서관,경북,구미,양포,도서관,리더기,전자책,기증,ESG,경...</td>\n",
              "      <td>AGC화인테크노한국 양포도서관 경북 구미 양포 도서관 리더기 전자책 기증 ESG 경...</td>\n",
              "      <td>[AGC, 화인, 테크노, 한국, 양, 포, 도서관, 경북, 구미, 양, 포, 도서...</td>\n",
              "      <td>[AGC, 화인, 테크노, 한국, 양, 포, 도서관, 경북, 구미, 양, 포, 도서...</td>\n",
              "      <td>AGC 화인 테크노 한국 양 포 도서관 경북 구미 양 포 도서관 리더 기 전자책 기...</td>\n",
              "      <td>1</td>\n",
              "    </tr>\n",
              "    <tr>\n",
              "      <th>4170</th>\n",
              "      <td>BBQ,아이러브,아프리카,영향력,확산,사회적,앞장,가치,실현,최대,프랜차이즈,제너시...</td>\n",
              "      <td>BBQ 아이러브 아프리카 영향력 확산 사회적 앞장 가치 실현 최대 프랜차이즈 제너시...</td>\n",
              "      <td>[BBQ, 아이, 러브, 아프리카, 영향력, 확산, 사회, 적, 앞장, 가치, 실현...</td>\n",
              "      <td>[BBQ, 러브, 아프리카, 영향력, 확산, 사회, 적, 앞장, 가치, 실현, 최대...</td>\n",
              "      <td>BBQ 러브 아프리카 영향력 확산 사회 적 앞장 가치 실현 최대 프랜차이즈 제너시스...</td>\n",
              "      <td>1</td>\n",
              "    </tr>\n",
              "    <tr>\n",
              "      <th>6145</th>\n",
              "      <td>BC카드,기부,특화,밥바라밥,페이,북머니,체크,카드,출시,이용액,0.1%,청년,취약...</td>\n",
              "      <td>BC카드 기부 특화 밥바라밥 페이 북머니 체크 카드 출시 이용액    청년 취약 계...</td>\n",
              "      <td>[BC, 카드, 기부, 특화, 밥, 바라, 밥, 페이, 북, 머니, 체크, 카드, ...</td>\n",
              "      <td>[BC, 카드, 기부, 특화, 밥, 바라, 밥, 페이, 북, 머니, 체크, 카드, ...</td>\n",
              "      <td>BC 카드 기부 특화 밥 바라 밥 페이 북 머니 체크 카드 출시 용액 청년 취약 계...</td>\n",
              "      <td>1</td>\n",
              "    </tr>\n",
              "    <tr>\n",
              "      <th>3701</th>\n",
              "      <td>BNK신용정보,추석,이웃,온정,ESG,실천,대표이사,BNK,신용,정보,김성주,대표,...</td>\n",
              "      <td>BNK신용정보 추석 이웃 온정 ESG 실천 대표이사 BNK 신용 정보 김성주 대표 ...</td>\n",
              "      <td>[BNK, 신용정보, 추석, 이웃, 온정, ESG, 실천, 대표이사, BNK, 신용...</td>\n",
              "      <td>[BNK, 신용정보, 추석, 이웃, 온정, ESG, 실천, 대표이사, BNK, 신용...</td>\n",
              "      <td>BNK 신용정보 추석 이웃 온정 ESG 실천 대표이사 BNK 신용 정보 김성주 대표...</td>\n",
              "      <td>1</td>\n",
              "    </tr>\n",
              "    <tr>\n",
              "      <th>...</th>\n",
              "      <td>...</td>\n",
              "      <td>...</td>\n",
              "      <td>...</td>\n",
              "      <td>...</td>\n",
              "      <td>...</td>\n",
              "      <td>...</td>\n",
              "    </tr>\n",
              "    <tr>\n",
              "      <th>4705</th>\n",
              "      <td>효성첨단소재,효성화학,친환경,금상첨화,챌린지,효성첨단소재,효성화학,신기업가정신,실천...</td>\n",
              "      <td>효성첨단소재 효성화학 친환경 금상첨화 챌린지 효성첨단소재 효성화학 신기업가정신 실천...</td>\n",
              "      <td>[효성, 첨단, 소재, 효성, 화학, 친환경, 금상첨화, 챌, 린지, 효성, 첨단,...</td>\n",
              "      <td>[효성, 첨단, 소재, 효성, 화학, 친환경, 금상첨화, 챌, 린지, 효성, 첨단,...</td>\n",
              "      <td>효성 첨단 소재 효성 화학 친환경 금상첨화 챌 린지 효성 첨단 소재 효성 화학 신 ...</td>\n",
              "      <td>1</td>\n",
              "    </tr>\n",
              "    <tr>\n",
              "      <th>515</th>\n",
              "      <td>효성,호국,보답,애국,국가유공자,사회적,앞장,효성그룹,슬로건,애국지사,호국,보훈,활...</td>\n",
              "      <td>효성 호국 보답 애국 국가유공자 사회적 앞장 효성그룹 슬로건 애국지사 호국 보훈 활...</td>\n",
              "      <td>[효성, 호국, 보답, 애국, 국가, 유공, 자, 사회, 적, 앞장, 효성, 그룹,...</td>\n",
              "      <td>[효성, 호국, 보답, 애국, 국가, 유공, 사회, 적, 앞장, 효성, 그룹, 슬로...</td>\n",
              "      <td>효성 호국 보답 애국 국가 유공 사회 적 앞장 효성 그룹 슬로건 애국지사 호국 보훈...</td>\n",
              "      <td>1</td>\n",
              "    </tr>\n",
              "    <tr>\n",
              "      <th>7866</th>\n",
              "      <td>휠체어,재활치료,활발,장애,아동,지원,경영대상,K-ESG,경영,대상,주식회사,상상,...</td>\n",
              "      <td>휠체어 재활치료 활발 장애 아동 지원 경영대상 K ESG 경영 대상 주식회사 상상 ...</td>\n",
              "      <td>[휠체어, 재활, 치료, 활발, 장애, 아동, 지원, 경영, 대상, K, ESG, ...</td>\n",
              "      <td>[휠체어, 재활, 치료, 활발, 장애, 아동, 지원, 경영, 대상, K, ESG, ...</td>\n",
              "      <td>휠체어 재활 치료 활발 장애 아동 지원 경영 대상 K ESG 경영 대상 주식회사 상...</td>\n",
              "      <td>1</td>\n",
              "    </tr>\n",
              "    <tr>\n",
              "      <th>8128</th>\n",
              "      <td>휴비스,전주,공장,희망키움,도서,물품,전달,임직원,휴비스,전주,공장,남관초등학교,완...</td>\n",
              "      <td>휴비스 전주 공장 희망키움 도서 물품 전달 임직원 휴비스 전주 공장 남관초등학교 완...</td>\n",
              "      <td>[휴비스, 전주, 공장, 희망, 키움, 도서, 물품, 전달, 임, 직원, 휴비스, ...</td>\n",
              "      <td>[휴비스, 전주, 공장, 희망, 키움, 도서, 물품, 전달, 임, 직원, 휴비스, ...</td>\n",
              "      <td>휴비스 전주 공장 희망 키움 도서 물품 전달 임 직원 휴비스 전주 공장 남관 초등학...</td>\n",
              "      <td>1</td>\n",
              "    </tr>\n",
              "    <tr>\n",
              "      <th>1177</th>\n",
              "      <td>히어로,카카오모빌리티,승객,수사,택시,기사,표창,카카오모빌리티,택시,운행,시민의식,...</td>\n",
              "      <td>히어로 카카오모빌리티 승객 수사 택시 기사 표창 카카오모빌리티 택시 운행 시민의식 ...</td>\n",
              "      <td>[히어로, 카카오, 모빌리티, 승객, 수사, 택시, 기사, 표창, 카카오, 모빌리티...</td>\n",
              "      <td>[히어로, 카카오, 모빌리티, 승객, 수사, 택시, 기사, 표창, 카카오, 모빌리티...</td>\n",
              "      <td>히어로 카카오 모빌리티 승객 수사 택시 기사 표창 카카오 모빌리티 택시 운행 시민 ...</td>\n",
              "      <td>1</td>\n",
              "    </tr>\n",
              "  </tbody>\n",
              "</table>\n",
              "<p>815 rows × 6 columns</p>\n",
              "</div>\n",
              "      <button class=\"colab-df-convert\" onclick=\"convertToInteractive('df-86ffa172-e408-4e65-9b53-7b1e8696331c')\"\n",
              "              title=\"Convert this dataframe to an interactive table.\"\n",
              "              style=\"display:none;\">\n",
              "        \n",
              "  <svg xmlns=\"http://www.w3.org/2000/svg\" height=\"24px\"viewBox=\"0 0 24 24\"\n",
              "       width=\"24px\">\n",
              "    <path d=\"M0 0h24v24H0V0z\" fill=\"none\"/>\n",
              "    <path d=\"M18.56 5.44l.94 2.06.94-2.06 2.06-.94-2.06-.94-.94-2.06-.94 2.06-2.06.94zm-11 1L8.5 8.5l.94-2.06 2.06-.94-2.06-.94L8.5 2.5l-.94 2.06-2.06.94zm10 10l.94 2.06.94-2.06 2.06-.94-2.06-.94-.94-2.06-.94 2.06-2.06.94z\"/><path d=\"M17.41 7.96l-1.37-1.37c-.4-.4-.92-.59-1.43-.59-.52 0-1.04.2-1.43.59L10.3 9.45l-7.72 7.72c-.78.78-.78 2.05 0 2.83L4 21.41c.39.39.9.59 1.41.59.51 0 1.02-.2 1.41-.59l7.78-7.78 2.81-2.81c.8-.78.8-2.07 0-2.86zM5.41 20L4 18.59l7.72-7.72 1.47 1.35L5.41 20z\"/>\n",
              "  </svg>\n",
              "      </button>\n",
              "      \n",
              "  <style>\n",
              "    .colab-df-container {\n",
              "      display:flex;\n",
              "      flex-wrap:wrap;\n",
              "      gap: 12px;\n",
              "    }\n",
              "\n",
              "    .colab-df-convert {\n",
              "      background-color: #E8F0FE;\n",
              "      border: none;\n",
              "      border-radius: 50%;\n",
              "      cursor: pointer;\n",
              "      display: none;\n",
              "      fill: #1967D2;\n",
              "      height: 32px;\n",
              "      padding: 0 0 0 0;\n",
              "      width: 32px;\n",
              "    }\n",
              "\n",
              "    .colab-df-convert:hover {\n",
              "      background-color: #E2EBFA;\n",
              "      box-shadow: 0px 1px 2px rgba(60, 64, 67, 0.3), 0px 1px 3px 1px rgba(60, 64, 67, 0.15);\n",
              "      fill: #174EA6;\n",
              "    }\n",
              "\n",
              "    [theme=dark] .colab-df-convert {\n",
              "      background-color: #3B4455;\n",
              "      fill: #D2E3FC;\n",
              "    }\n",
              "\n",
              "    [theme=dark] .colab-df-convert:hover {\n",
              "      background-color: #434B5C;\n",
              "      box-shadow: 0px 1px 3px 1px rgba(0, 0, 0, 0.15);\n",
              "      filter: drop-shadow(0px 1px 2px rgba(0, 0, 0, 0.3));\n",
              "      fill: #FFFFFF;\n",
              "    }\n",
              "  </style>\n",
              "\n",
              "      <script>\n",
              "        const buttonEl =\n",
              "          document.querySelector('#df-86ffa172-e408-4e65-9b53-7b1e8696331c button.colab-df-convert');\n",
              "        buttonEl.style.display =\n",
              "          google.colab.kernel.accessAllowed ? 'block' : 'none';\n",
              "\n",
              "        async function convertToInteractive(key) {\n",
              "          const element = document.querySelector('#df-86ffa172-e408-4e65-9b53-7b1e8696331c');\n",
              "          const dataTable =\n",
              "            await google.colab.kernel.invokeFunction('convertToInteractive',\n",
              "                                                     [key], {});\n",
              "          if (!dataTable) return;\n",
              "\n",
              "          const docLinkHtml = 'Like what you see? Visit the ' +\n",
              "            '<a target=\"_blank\" href=https://colab.research.google.com/notebooks/data_table.ipynb>data table notebook</a>'\n",
              "            + ' to learn more about interactive tables.';\n",
              "          element.innerHTML = '';\n",
              "          dataTable['output_type'] = 'display_data';\n",
              "          await google.colab.output.renderOutput(dataTable, element);\n",
              "          const docLink = document.createElement('div');\n",
              "          docLink.innerHTML = docLinkHtml;\n",
              "          element.appendChild(docLink);\n",
              "        }\n",
              "      </script>\n",
              "    </div>\n",
              "  </div>\n",
              "  "
            ]
          },
          "metadata": {},
          "execution_count": 26
        }
      ]
    },
    {
      "cell_type": "code",
      "source": [
        "# 군집별 핵심 단어 추출하기\n",
        "cluster_centers = km_cluster.cluster_centers_\n",
        "print('cluster_centers shape :',cluster_centers.shape)\n",
        "print(cluster_centers)"
      ],
      "metadata": {
        "colab": {
          "base_uri": "https://localhost:8080/"
        },
        "id": "t19-FcabOmP2",
        "outputId": "010b2d32-d84d-4bb8-c94f-f6e5d23ebb1d"
      },
      "execution_count": null,
      "outputs": [
        {
          "output_type": "stream",
          "name": "stdout",
          "text": [
            "cluster_centers shape : (20, 459)\n",
            "[[0.00264027 0.02466952 0.01723571 ... 0.00845778 0.0009702  0.00143949]\n",
            " [0.00156828 0.04038254 0.01446241 ... 0.0009911  0.0390046  0.02302794]\n",
            " [0.01307438 0.02134682 0.01208433 ... 0.05120065 0.00105331 0.00130013]\n",
            " ...\n",
            " [0.01325755 0.02488062 0.01319412 ... 0.00468638 0.00845469 0.00539309]\n",
            " [0.00088099 0.03821905 0.01223898 ... 0.014762   0.00016445 0.00183061]\n",
            " [0.00307286 0.02440744 0.00936643 ... 0.00423582 0.01676136 0.01337775]]\n"
          ]
        }
      ]
    },
    {
      "cell_type": "code",
      "source": [
        "# 군집별 top n 핵심단어, 그 단어의 중심 위치 상대값을 반환함. \n",
        "def get_cluster_details(cluster_model, cluster_data, feature_names, clusters_num, top_n_features=10):\n",
        "    cluster_details = {}\n",
        "    \n",
        "    # cluster_centers array 의 값이 큰 순으로 정렬된 index 값을 반환\n",
        "    # 군집 중심점(centroid)별 할당된 word 피처들의 거리값이 큰 순으로 값을 구하기 위함.  \n",
        "    centroid_feature_ordered_ind = cluster_model.cluster_centers_.argsort()[:,::-1]\n",
        "    \n",
        "    #개별 군집별로 iteration하면서 핵심단어, 그 단어의 중심 위치 상대값 입력\n",
        "    for cluster_num in range(clusters_num):\n",
        "        # 개별 군집별 정보를 담을 데이터 초기화. \n",
        "        cluster_details[cluster_num] = {}\n",
        "        cluster_details[cluster_num]['cluster'] = cluster_num\n",
        "        \n",
        "        # cluster_centers_.argsort()[:,::-1] 로 구한 index 를 이용하여 top n 피처 단어를 구함. \n",
        "        top_feature_indexes = centroid_feature_ordered_ind[cluster_num, :top_n_features]\n",
        "        top_features = [ feature_names[ind] for ind in top_feature_indexes ]\n",
        "        \n",
        "        # top_feature_indexes를 이용해 해당 피처 단어의 중심 위치 상댓값 구함 \n",
        "        top_feature_values = cluster_model.cluster_centers_[cluster_num, top_feature_indexes].tolist()\n",
        "        \n",
        "        # cluster_details 딕셔너리 객체에 개별 군집별 핵심 단어와 중심위치 상대값 입력\n",
        "        cluster_details[cluster_num]['top_features'] = top_features\n",
        "        cluster_details[cluster_num]['top_features_value'] = top_feature_values\n",
        "        \n",
        "    return cluster_details"
      ],
      "metadata": {
        "id": "p6MWFQyNOwVv"
      },
      "execution_count": null,
      "outputs": []
    },
    {
      "cell_type": "code",
      "source": [
        "def print_cluster_details(cluster_details):\n",
        "    for cluster_num, cluster_detail in cluster_details.items():\n",
        "        print('####### Cluster {0}'.format(cluster_num))\n",
        "        print('Top features:', cluster_detail['top_features'])\n",
        "        print('='*120)"
      ],
      "metadata": {
        "id": "Yh-yAyFvOyRh"
      },
      "execution_count": null,
      "outputs": []
    },
    {
      "cell_type": "code",
      "source": [
        "feature_names = tfidfv.get_feature_names()\n",
        "\n",
        "cluster_details = get_cluster_details(cluster_model=km_cluster, cluster_data=cs,\n",
        "                                  feature_names=feature_names, clusters_num=20, top_n_features=30 )\n",
        "print_cluster_details(cluster_details)"
      ],
      "metadata": {
        "colab": {
          "base_uri": "https://localhost:8080/"
        },
        "id": "nqPUh6xJO0sQ",
        "outputId": "b1ae1f7b-8bb7-4d24-a375-c2f1e61d0873"
      },
      "execution_count": null,
      "outputs": [
        {
          "output_type": "stream",
          "name": "stdout",
          "text": [
            "####### Cluster 0\n",
            "Top features: ['제품', '플라스틱', '사용', '생산', '고객', '상품', '소재', '판매', '원료', '브랜드', '환경', '출시', '매출', '바이오', '재활용', '시장', '기업', '소비자', '공장', '적용', '서비스', '소비', '가격', '가능', '경영', '대표', '확대', '활용', '인증', '제공']\n",
            "========================================================================================================================\n",
            "####### Cluster 1\n",
            "Top features: ['기부', '캠페인', '사회', '지역', '활동', '직원', '전달', '공헌', '사회 공헌', '지원', '실천', '진행', '공헌 활동', '계층', '지역 사회', '참여', '환경', '경영', '취약', '취약 계층', '그룹', '행사', '증권', '복지', 'esg 경영', '기업', '후원', '한국', '사용', '건강']\n",
            "========================================================================================================================\n",
            "####### Cluster 2\n",
            "Top features: ['에너지', '재생 에너지', '재생', '전력', '탄소', '기업', '사업', '발전', '생산', '사용', '효율', '중립', '설비', '탄소 중립', '배출', '산업', '전환', '가입', '환경', '공급', '공장', '가스', '투자', '한국', '글로벌', 'lg', '전기', '감축', '정부', '솔루션']\n",
            "========================================================================================================================\n",
            "####### Cluster 3\n",
            "Top features: ['기업', '경영', 'esg 경영', '대표', '사회', '회장', '평가', '위원회', '한국', '환경', '공시', '지속', '그룹', '가능', '경제', '지속 가능', '글로벌', '사업', '성장', '전략', '이사', '가치', '산업', '지원', '기업 esg', '투자', '대응', '책임', '회사', '강화']\n",
            "========================================================================================================================\n",
            "####### Cluster 4\n",
            "Top features: ['탄소', '중립', '탄소 중립', '배출', '감축', '가스', '온실 가스', '온실', '탄소 배출', '기업', '기후', '실천', '캠페인', '에너지', '경영', '환경', '사업', '달성', '사용', '그린', '산업', '한국', 'esg 경영', '세계', '글로벌', '사회', '대응', '추진', '생산', '전환']\n",
            "========================================================================================================================\n",
            "####### Cluster 5\n",
            "Top features: ['sk', '회장', '기업', '폐기물', '그룹', '사회', '사업', '경영', '가치', '에너지', '가스', '탄소', '환경', '주주', '성장', '협력', '혁신', '지역', '지원', '회사', '투자', 'esg 경영', '이해관계자', '사회 가치', '데이터', '생산', '글로벌', '진행', '행복', '제품']\n",
            "========================================================================================================================\n",
            "####### Cluster 6\n",
            "Top features: ['중소기업', '지원', '기업', '중소', '경영', '산업', 'esg 경영', '환경', '정책', '사업', '진단', '자금', '이사장', '금융', '성장', '협약', '협력', '혁신', '컨설팅', '진흥', '우수', '지원 사업', '지역', '금리', '기술', '한국', '규제', '방안', '확산', '공단']\n",
            "========================================================================================================================\n",
            "####### Cluster 7\n",
            "Top features: ['투자', '펀드', '운용', '기업', '증권', '자산', '미국', '시장', '투자자', '한국', '수익', '스타트업', '대표', '금융', '평가', '규모', '글로벌', '산업', '전략', '성장', '상품', '자금', '사업', '환경', '사회', '지원', '금리', '기준', '서비스', '그룹']\n",
            "========================================================================================================================\n",
            "####### Cluster 8\n",
            "Top features: ['롯데', '경영', '파트너', '사업', '제품', '가능', '활동', '상품', '진행', '유통', '캠페인', '환경', '대표', '화학', '지속 가능', '협약', '판매', '협력', '브랜드', '지속', 'esg 경영', '보고서', '지원', '고객', '지급', '행사', '생산', '사회', '재생', '계획']\n",
            "========================================================================================================================\n",
            "####### Cluster 9\n",
            "Top features: ['삼성', '이사', '그룹', '기업', '스마트', '경영', '공장', '서울', '환경', '대표', '제품', '사업', '협력', '에너지', '중소기업', '생산', '탄소', '지배', '전력', '전략', '전기', '지배 구조', '구조', '사회', '폐기물', '홍보', '글로벌', '사장', '지속', '이사회']\n",
            "========================================================================================================================\n",
            "####### Cluster 10\n",
            "Top features: ['혁신', '디지털', '산업', '지원', '사업', '정책', '스타트업', 'ai', '기업', '서비스', '실장', '데이터', '플랫폼', '경영', '센터', '분야', '정부', '경제', '시장', '협력', '한국', '관리', '기관', '국민', '미래', '성장', '사회', '추진', '기획', '본부']\n",
            "========================================================================================================================\n",
            "####### Cluster 11\n",
            "Top features: ['협력', '동반', '동반 성장', '지원', '중소기업', '상생', '동반성', '성장', '지급', '우수', '평가', '기업', '협약', '위원회', '업체', '지원 사업', '컨설팅', '파트너', '거래', '경영', '지표', '중소', '등급', '선정', '사업', '활동', '맞춤', '프로그램', '회사', 'lg']\n",
            "========================================================================================================================\n",
            "####### Cluster 12\n",
            "Top features: ['lg', '화학', '에너지', '제품', '솔루션', '환경', '보고서', '고객', '사회', '사업', '협력', '기업', '생산', '폐기물', '사용', '경영', '지속', '활동', '배출', '가능', '소재', '생활', '탄소', '그룹', '건강', '발간', '재생', '지속 가능', '구축', '재생 에너지']\n",
            "========================================================================================================================\n",
            "####### Cluster 13\n",
            "Top features: ['건설', '사업', '공사', '안전', '경영', '협약', '현장', '협력', '현대', '공동', '환경', 'esg 경영', '탄소', '기업', '진행', '업무', '업무 협약', '롯데', '사회', '설비', '체결', '지속', '활동', '사용', '추진', '대표', '가능', '분야', '활용', '지역']\n",
            "========================================================================================================================\n",
            "####### Cluster 14\n",
            "Top features: ['협약', '업무 협약', '업무', '체결', '협력', '협약 체결', '지역', '지원', '사업', '한국', '사회', '공단', '경영', '공사', '기관', 'esg 경영', '현대', '추진', '활동', '환경', '공동', '기업', '센터', '자원', '조성', '실천', '복지', '지역 사회', '안전', '공헌']\n",
            "========================================================================================================================\n",
            "####### Cluster 15\n",
            "Top features: ['은행', '금리', '금융', '상품', '자금', '기업', '경영', '사회', '고객', '부산', '최고', '규모', '지원', '환경', '지역', '활동', '시장', '최대', '제공', '지속', '실천', '혜택', 'esg 경영', '투자', '가입', '직원', '가능', '평가', '지속 가능', '상승']\n",
            "========================================================================================================================\n",
            "####### Cluster 16\n",
            "Top features: ['보고서', '경영', '발간', '가능', '지속 가능', '지속', '가능 경영', '보고서 발간', '성과', '사회', '활동', 'esg 경영', '환경', '전략', '기업', '위원회', '이해관계자', '공개', '지배구조', '안전', '가치', '환경 사회', '사업', '통합', '변화', '투명', '강화', '비전', '관리', '그룹']\n",
            "========================================================================================================================\n",
            "####### Cluster 17\n",
            "Top features: ['금융', '그룹', '회장', '지원', '은행', '기업', '서비스', '고객', '사회', '투자', '디지털', '전략', '경영', '가치', '혁신', '스타트업', '사업', '데이터', '플랫폼', '협력', 'sk', '상품', '정보', '제공', '지역', '글로벌', '추진', '환경', '법인', '프로그램']\n",
            "========================================================================================================================\n",
            "####### Cluster 18\n",
            "Top features: ['인증', '경영', '평가', '획득', '안전', '국제', '등급', '관리', '표준', '환경', '기관', '기업', '시스템', '체계', '우수', '공사', '지속', '사업', '구축', '공단', '지속 가능', '가능', '강화', '사회', 'esg 경영', '에너지', '바이오', '노력', '기구', '조직']\n",
            "========================================================================================================================\n",
            "####### Cluster 19\n",
            "Top features: ['지역', '교육', '프로그램', '지원', '행사', '청년', '진행', '개최', '참여', '문화', '체험', '공사', '사업', '사회', '한국', '환경', '운영', '대학', '활동', '시민', '부산', '대상', '기업', '센터', '경영', '콘텐츠', '주제', '서울', '도시', '제공']\n",
            "========================================================================================================================\n"
          ]
        }
      ]
    },
    {
      "cell_type": "markdown",
      "source": [
        "## LDA"
      ],
      "metadata": {
        "id": "OwikZDFuPVFP"
      }
    },
    {
      "cell_type": "code",
      "source": [
        "from gensim import corpora\n",
        "dictionary = corpora.Dictionary(cs['text_tokenized'])\n",
        "print(dictionary)"
      ],
      "metadata": {
        "colab": {
          "base_uri": "https://localhost:8080/",
          "height": 211
        },
        "id": "miqpNgPdO6Rh",
        "outputId": "121fd45d-7446-4b07-915c-ee012c9552a6"
      },
      "execution_count": null,
      "outputs": [
        {
          "output_type": "error",
          "ename": "NameError",
          "evalue": "ignored",
          "traceback": [
            "\u001b[0;31m---------------------------------------------------------------------------\u001b[0m",
            "\u001b[0;31mNameError\u001b[0m                                 Traceback (most recent call last)",
            "\u001b[0;32m<ipython-input-1-18c0b4dd9ab8>\u001b[0m in \u001b[0;36m<module>\u001b[0;34m()\u001b[0m\n\u001b[1;32m      1\u001b[0m \u001b[0;32mfrom\u001b[0m \u001b[0mgensim\u001b[0m \u001b[0;32mimport\u001b[0m \u001b[0mcorpora\u001b[0m\u001b[0;34m\u001b[0m\u001b[0;34m\u001b[0m\u001b[0m\n\u001b[0;32m----> 2\u001b[0;31m \u001b[0mdictionary\u001b[0m \u001b[0;34m=\u001b[0m \u001b[0mcorpora\u001b[0m\u001b[0;34m.\u001b[0m\u001b[0mDictionary\u001b[0m\u001b[0;34m(\u001b[0m\u001b[0mcs\u001b[0m\u001b[0;34m[\u001b[0m\u001b[0;34m'text_tokenized'\u001b[0m\u001b[0;34m]\u001b[0m\u001b[0;34m)\u001b[0m\u001b[0;34m\u001b[0m\u001b[0;34m\u001b[0m\u001b[0m\n\u001b[0m\u001b[1;32m      3\u001b[0m \u001b[0mprint\u001b[0m\u001b[0;34m(\u001b[0m\u001b[0mdictionary\u001b[0m\u001b[0;34m)\u001b[0m\u001b[0;34m\u001b[0m\u001b[0;34m\u001b[0m\u001b[0m\n",
            "\u001b[0;31mNameError\u001b[0m: name 'cs' is not defined"
          ]
        }
      ]
    },
    {
      "cell_type": "code",
      "source": [
        "corpus = [dictionary.doc2bow(text) for text in cs['text_tokenized']]\n",
        "\n",
        "print(corpus[0])\n",
        "\n",
        "for i in range(5):\n",
        "    print(dictionary[i])"
      ],
      "metadata": {
        "id": "l-V3lepMPrN1"
      },
      "execution_count": null,
      "outputs": []
    },
    {
      "cell_type": "code",
      "source": [
        "tokenized = cs['text_tokenized']"
      ],
      "metadata": {
        "id": "jKEFM5YiQQGf"
      },
      "execution_count": null,
      "outputs": []
    },
    {
      "cell_type": "code",
      "source": [
        "import matplotlib.pyplot as plt\n",
        "from gensim.models import CoherenceModel\n",
        "perplexity_values =[]\n",
        "coherence_values=[]\n",
        "for i in range(5,30):\n",
        "    ldamodel=gensim.models.ldamodel.LdaModel(corpus, num_topics=i, id2word=dictionary)\n",
        "    coherence_model_lda =CoherenceModel(model=ldamodel, texts=tokenized, dictionary = dictionary,topn=10)\n",
        "    coherence_lda=coherence_model_lda.get_coherence()\n",
        "    coherence_values.append(coherence_lda)\n",
        "\n",
        "    perplexity_values.append(ldamodel.log_perplexity(corpus))"
      ],
      "metadata": {
        "id": "UvXVRO9UQIK2"
      },
      "execution_count": null,
      "outputs": []
    },
    {
      "cell_type": "code",
      "source": [
        "x=range(5,30)\n",
        "plt.plot(x,coherence_values)\n",
        "plt.xlabel(\"number of topics\")\n",
        "plt.ylabel(\"coherence score\")\n",
        "plt.show() #number of topics= 18"
      ],
      "metadata": {
        "id": "0vp3oIvRQWps"
      },
      "execution_count": null,
      "outputs": []
    },
    {
      "cell_type": "code",
      "source": [
        "plt.plot(x,perplexity_values)\n",
        "plt.xlabel('number of topics')\n",
        "plt.ylabel('perplexity score')\n",
        "plt.show() "
      ],
      "metadata": {
        "id": "L-lyK3KmQgwh"
      },
      "execution_count": null,
      "outputs": []
    },
    {
      "cell_type": "code",
      "source": [
        "ldamodel=gensim.models.ldamodel.LdaModel(corpus, num_topics=18, \n",
        "                                         alpha=0.1, id2word=dictionary)"
      ],
      "metadata": {
        "id": "GjNZMr0SQrc2"
      },
      "execution_count": null,
      "outputs": []
    },
    {
      "cell_type": "code",
      "source": [
        "ldamodel.print_topics(num_words=5)"
      ],
      "metadata": {
        "id": "igEUWpgPQt_Q"
      },
      "execution_count": null,
      "outputs": []
    },
    {
      "cell_type": "code",
      "source": [
        "!pip install pyLDAvis"
      ],
      "metadata": {
        "id": "vDyrpdT2QwEd"
      },
      "execution_count": null,
      "outputs": []
    },
    {
      "cell_type": "code",
      "source": [
        "#시각화\n",
        "import pyLDAvis.gensim_models\n",
        "pyLDAvis.enable_notebook()\n",
        "vis = pyLDAvis.gensim_models.prepare(ldamodel, corpus, dictionary)\n",
        "pyLDAvis.display(vis)"
      ],
      "metadata": {
        "id": "UwPD_ILkQyeL"
      },
      "execution_count": null,
      "outputs": []
    }
  ]
}